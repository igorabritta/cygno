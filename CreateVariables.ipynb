{
 "cells": [
  {
   "cell_type": "markdown",
   "metadata": {},
   "source": [
    "# Data Analysis over the Clusters\n",
    "## Loading libraries"
   ]
  },
  {
   "cell_type": "code",
   "execution_count": 1,
   "metadata": {},
   "outputs": [],
   "source": [
    "import numpy as np\n",
    "import cygnus_lib as cy\n",
    "import toolslib as tl\n",
    "import matplotlib.pyplot as plt\n",
    "import pandas as pd\n",
    "from time import sleep\n",
    "\n",
    "## font definition\n",
    "%matplotlib inline\n",
    "plt.rcParams['font.family'] = 'sans-serif'\n",
    "plt.rcParams['font.sans-serif'] = ['Bitstream Vera Sans']\n",
    "plt.rcParams['font.serif'] = ['Bitstream Vera Sans']"
   ]
  },
  {
   "cell_type": "markdown",
   "metadata": {},
   "source": [
    "## Variables definition"
   ]
  },
  {
   "cell_type": "code",
   "execution_count": 2,
   "metadata": {},
   "outputs": [],
   "source": [
    "x_resolution = y_resolution = 2048\n",
    "rescale      = 512\n",
    "scale        = int(x_resolution/rescale)"
   ]
  },
  {
   "cell_type": "markdown",
   "metadata": {},
   "source": [
    "## Loading data\n",
    "\n",
    "List contain:\n",
    "\n",
    "[0 - Run number, 1 - Image Number, 2 - Tag of the cluster, 3 - Pixel X position, 4 - Pixel Y position, 5 - Light in the pixel, 6 - Pedestal in the pixel]"
   ]
  },
  {
   "cell_type": "code",
   "execution_count": 25,
   "metadata": {},
   "outputs": [],
   "source": [
    "#------------------- Loading File ------------------------------#\n",
    "directory = (\"./data/\")          # Directory of the output file\n",
    "filename  = (\"ClustersTable\")    # Name of the output file\n",
    "extension = (\".csv\")             # Extension of the output file\n",
    "dataout = directory + filename + extension # Full path of the output file\n",
    "\n",
    "dt = {'Run': np.int64, 'Image': np.int64, 'Tag': np.object, 'X': np.object, 'Y': np.object, 'Light': np.object, 'Pedestal': np.object}\n",
    "\n",
    "df = pd.read_csv(dataout,dtype=dt)"
   ]
  },
  {
   "cell_type": "code",
   "execution_count": 26,
   "metadata": {},
   "outputs": [
    {
     "data": {
      "text/html": [
       "<div>\n",
       "<style scoped>\n",
       "    .dataframe tbody tr th:only-of-type {\n",
       "        vertical-align: middle;\n",
       "    }\n",
       "\n",
       "    .dataframe tbody tr th {\n",
       "        vertical-align: top;\n",
       "    }\n",
       "\n",
       "    .dataframe thead th {\n",
       "        text-align: right;\n",
       "    }\n",
       "</style>\n",
       "<table border=\"1\" class=\"dataframe\">\n",
       "  <thead>\n",
       "    <tr style=\"text-align: right;\">\n",
       "      <th></th>\n",
       "      <th>Run</th>\n",
       "      <th>Image</th>\n",
       "      <th>Tag</th>\n",
       "      <th>X</th>\n",
       "      <th>Y</th>\n",
       "      <th>Light</th>\n",
       "      <th>Pedestal</th>\n",
       "    </tr>\n",
       "  </thead>\n",
       "  <tbody>\n",
       "    <tr>\n",
       "      <th>0</th>\n",
       "      <td>494</td>\n",
       "      <td>0</td>\n",
       "      <td>m</td>\n",
       "      <td>[808, 808, 808, 808, 809, 809, 809, 809, 810, ...</td>\n",
       "      <td>[40, 41, 42, 43, 40, 41, 42, 43, 40, 41, 42, 4...</td>\n",
       "      <td>[103, 96, 98, 103, 97, 129, 99, 120, 100, 98, ...</td>\n",
       "      <td>[103, 102, 101, 104, 100, 115, 102, 104, 104, ...</td>\n",
       "    </tr>\n",
       "    <tr>\n",
       "      <th>1</th>\n",
       "      <td>494</td>\n",
       "      <td>0</td>\n",
       "      <td>m</td>\n",
       "      <td>[652, 652, 652, 652, 653, 653, 653, 653, 654, ...</td>\n",
       "      <td>[112, 113, 114, 115, 112, 113, 114, 115, 112, ...</td>\n",
       "      <td>[98, 102, 99, 104, 103, 102, 101, 98, 103, 99,...</td>\n",
       "      <td>[99, 102, 103, 102, 102, 102, 100, 102, 102, 1...</td>\n",
       "    </tr>\n",
       "    <tr>\n",
       "      <th>2</th>\n",
       "      <td>494</td>\n",
       "      <td>0</td>\n",
       "      <td>m</td>\n",
       "      <td>[404, 404, 404, 404, 405, 405, 405, 405, 406, ...</td>\n",
       "      <td>[160, 161, 162, 163, 160, 161, 162, 163, 160, ...</td>\n",
       "      <td>[96, 101, 102, 103, 100, 100, 100, 98, 104, 10...</td>\n",
       "      <td>[96, 102, 102, 102, 99, 103, 102, 99, 102, 103...</td>\n",
       "    </tr>\n",
       "    <tr>\n",
       "      <th>3</th>\n",
       "      <td>494</td>\n",
       "      <td>0</td>\n",
       "      <td>m</td>\n",
       "      <td>[1272, 1272, 1272, 1272, 1273, 1273, 1273, 127...</td>\n",
       "      <td>[488, 489, 490, 491, 488, 489, 490, 491, 488, ...</td>\n",
       "      <td>[103, 96, 100, 103, 100, 105, 100, 100, 103, 1...</td>\n",
       "      <td>[102, 103, 103, 103, 103, 103, 106, 102, 102, ...</td>\n",
       "    </tr>\n",
       "    <tr>\n",
       "      <th>4</th>\n",
       "      <td>494</td>\n",
       "      <td>0</td>\n",
       "      <td>m</td>\n",
       "      <td>[1208, 1208, 1208, 1208, 1209, 1209, 1209, 120...</td>\n",
       "      <td>[724, 725, 726, 727, 724, 725, 726, 727, 724, ...</td>\n",
       "      <td>[99, 108, 106, 102, 102, 106, 111, 100, 101, 1...</td>\n",
       "      <td>[102, 103, 102, 102, 104, 102, 110, 102, 102, ...</td>\n",
       "    </tr>\n",
       "    <tr>\n",
       "      <th>5</th>\n",
       "      <td>494</td>\n",
       "      <td>0</td>\n",
       "      <td>m</td>\n",
       "      <td>[1516, 1516, 1516, 1516, 1517, 1517, 1517, 151...</td>\n",
       "      <td>[780, 781, 782, 783, 780, 781, 782, 783, 780, ...</td>\n",
       "      <td>[103, 108, 116, 100, 113, 111, 111, 110, 109, ...</td>\n",
       "      <td>[102, 102, 105, 102, 109, 103, 102, 103, 104, ...</td>\n",
       "    </tr>\n",
       "    <tr>\n",
       "      <th>6</th>\n",
       "      <td>494</td>\n",
       "      <td>0</td>\n",
       "      <td>m</td>\n",
       "      <td>[1484, 1484, 1484, 1484, 1485, 1485, 1485, 148...</td>\n",
       "      <td>[856, 857, 858, 859, 856, 857, 858, 859, 856, ...</td>\n",
       "      <td>[109, 100, 103, 98, 104, 101, 101, 110, 114, 1...</td>\n",
       "      <td>[103, 104, 104, 107, 103, 103, 106, 104, 104, ...</td>\n",
       "    </tr>\n",
       "    <tr>\n",
       "      <th>7</th>\n",
       "      <td>494</td>\n",
       "      <td>0</td>\n",
       "      <td>m</td>\n",
       "      <td>[700, 700, 700, 700, 701, 701, 701, 701, 702, ...</td>\n",
       "      <td>[996, 997, 998, 999, 996, 997, 998, 999, 996, ...</td>\n",
       "      <td>[133, 106, 106, 101, 100, 120, 113, 103, 103, ...</td>\n",
       "      <td>[135, 103, 102, 102, 104, 110, 105, 102, 103, ...</td>\n",
       "    </tr>\n",
       "    <tr>\n",
       "      <th>8</th>\n",
       "      <td>494</td>\n",
       "      <td>0</td>\n",
       "      <td>m</td>\n",
       "      <td>[516, 516, 516, 516, 517, 517, 517, 517, 518, ...</td>\n",
       "      <td>[1060, 1061, 1062, 1063, 1060, 1061, 1062, 106...</td>\n",
       "      <td>[100, 103, 102, 111, 103, 98, 99, 101, 100, 11...</td>\n",
       "      <td>[105, 102, 104, 107, 103, 103, 99, 103, 102, 1...</td>\n",
       "    </tr>\n",
       "    <tr>\n",
       "      <th>9</th>\n",
       "      <td>494</td>\n",
       "      <td>0</td>\n",
       "      <td>m</td>\n",
       "      <td>[804, 804, 804, 804, 805, 805, 805, 805, 806, ...</td>\n",
       "      <td>[1240, 1241, 1242, 1243, 1240, 1241, 1242, 124...</td>\n",
       "      <td>[107, 102, 102, 104, 109, 109, 114, 107, 111, ...</td>\n",
       "      <td>[100, 105, 104, 103, 105, 107, 109, 103, 103, ...</td>\n",
       "    </tr>\n",
       "  </tbody>\n",
       "</table>\n",
       "</div>"
      ],
      "text/plain": [
       "   Run  Image Tag                                                  X  \\\n",
       "0  494      0   m  [808, 808, 808, 808, 809, 809, 809, 809, 810, ...   \n",
       "1  494      0   m  [652, 652, 652, 652, 653, 653, 653, 653, 654, ...   \n",
       "2  494      0   m  [404, 404, 404, 404, 405, 405, 405, 405, 406, ...   \n",
       "3  494      0   m  [1272, 1272, 1272, 1272, 1273, 1273, 1273, 127...   \n",
       "4  494      0   m  [1208, 1208, 1208, 1208, 1209, 1209, 1209, 120...   \n",
       "5  494      0   m  [1516, 1516, 1516, 1516, 1517, 1517, 1517, 151...   \n",
       "6  494      0   m  [1484, 1484, 1484, 1484, 1485, 1485, 1485, 148...   \n",
       "7  494      0   m  [700, 700, 700, 700, 701, 701, 701, 701, 702, ...   \n",
       "8  494      0   m  [516, 516, 516, 516, 517, 517, 517, 517, 518, ...   \n",
       "9  494      0   m  [804, 804, 804, 804, 805, 805, 805, 805, 806, ...   \n",
       "\n",
       "                                                   Y  \\\n",
       "0  [40, 41, 42, 43, 40, 41, 42, 43, 40, 41, 42, 4...   \n",
       "1  [112, 113, 114, 115, 112, 113, 114, 115, 112, ...   \n",
       "2  [160, 161, 162, 163, 160, 161, 162, 163, 160, ...   \n",
       "3  [488, 489, 490, 491, 488, 489, 490, 491, 488, ...   \n",
       "4  [724, 725, 726, 727, 724, 725, 726, 727, 724, ...   \n",
       "5  [780, 781, 782, 783, 780, 781, 782, 783, 780, ...   \n",
       "6  [856, 857, 858, 859, 856, 857, 858, 859, 856, ...   \n",
       "7  [996, 997, 998, 999, 996, 997, 998, 999, 996, ...   \n",
       "8  [1060, 1061, 1062, 1063, 1060, 1061, 1062, 106...   \n",
       "9  [1240, 1241, 1242, 1243, 1240, 1241, 1242, 124...   \n",
       "\n",
       "                                               Light  \\\n",
       "0  [103, 96, 98, 103, 97, 129, 99, 120, 100, 98, ...   \n",
       "1  [98, 102, 99, 104, 103, 102, 101, 98, 103, 99,...   \n",
       "2  [96, 101, 102, 103, 100, 100, 100, 98, 104, 10...   \n",
       "3  [103, 96, 100, 103, 100, 105, 100, 100, 103, 1...   \n",
       "4  [99, 108, 106, 102, 102, 106, 111, 100, 101, 1...   \n",
       "5  [103, 108, 116, 100, 113, 111, 111, 110, 109, ...   \n",
       "6  [109, 100, 103, 98, 104, 101, 101, 110, 114, 1...   \n",
       "7  [133, 106, 106, 101, 100, 120, 113, 103, 103, ...   \n",
       "8  [100, 103, 102, 111, 103, 98, 99, 101, 100, 11...   \n",
       "9  [107, 102, 102, 104, 109, 109, 114, 107, 111, ...   \n",
       "\n",
       "                                            Pedestal  \n",
       "0  [103, 102, 101, 104, 100, 115, 102, 104, 104, ...  \n",
       "1  [99, 102, 103, 102, 102, 102, 100, 102, 102, 1...  \n",
       "2  [96, 102, 102, 102, 99, 103, 102, 99, 102, 103...  \n",
       "3  [102, 103, 103, 103, 103, 103, 106, 102, 102, ...  \n",
       "4  [102, 103, 102, 102, 104, 102, 110, 102, 102, ...  \n",
       "5  [102, 102, 105, 102, 109, 103, 102, 103, 104, ...  \n",
       "6  [103, 104, 104, 107, 103, 103, 106, 104, 104, ...  \n",
       "7  [135, 103, 102, 102, 104, 110, 105, 102, 103, ...  \n",
       "8  [105, 102, 104, 107, 103, 103, 99, 103, 102, 1...  \n",
       "9  [100, 105, 104, 103, 105, 107, 109, 103, 103, ...  "
      ]
     },
     "execution_count": 26,
     "metadata": {},
     "output_type": "execute_result"
    }
   ],
   "source": [
    "# Showing the table\n",
    "df.head(n = 10)"
   ]
  },
  {
   "cell_type": "code",
   "execution_count": 27,
   "metadata": {},
   "outputs": [
    {
     "data": {
      "text/html": [
       "<div>\n",
       "<style scoped>\n",
       "    .dataframe tbody tr th:only-of-type {\n",
       "        vertical-align: middle;\n",
       "    }\n",
       "\n",
       "    .dataframe tbody tr th {\n",
       "        vertical-align: top;\n",
       "    }\n",
       "\n",
       "    .dataframe thead th {\n",
       "        text-align: right;\n",
       "    }\n",
       "</style>\n",
       "<table border=\"1\" class=\"dataframe\">\n",
       "  <thead>\n",
       "    <tr style=\"text-align: right;\">\n",
       "      <th></th>\n",
       "      <th>Run</th>\n",
       "      <th>Image</th>\n",
       "      <th>Tag</th>\n",
       "    </tr>\n",
       "  </thead>\n",
       "  <tbody>\n",
       "    <tr>\n",
       "      <th>0</th>\n",
       "      <td>494</td>\n",
       "      <td>0</td>\n",
       "      <td>m</td>\n",
       "    </tr>\n",
       "    <tr>\n",
       "      <th>1</th>\n",
       "      <td>494</td>\n",
       "      <td>0</td>\n",
       "      <td>m</td>\n",
       "    </tr>\n",
       "    <tr>\n",
       "      <th>2</th>\n",
       "      <td>494</td>\n",
       "      <td>0</td>\n",
       "      <td>m</td>\n",
       "    </tr>\n",
       "    <tr>\n",
       "      <th>3</th>\n",
       "      <td>494</td>\n",
       "      <td>0</td>\n",
       "      <td>m</td>\n",
       "    </tr>\n",
       "    <tr>\n",
       "      <th>4</th>\n",
       "      <td>494</td>\n",
       "      <td>0</td>\n",
       "      <td>m</td>\n",
       "    </tr>\n",
       "  </tbody>\n",
       "</table>\n",
       "</div>"
      ],
      "text/plain": [
       "   Run  Image Tag\n",
       "0  494      0   m\n",
       "1  494      0   m\n",
       "2  494      0   m\n",
       "3  494      0   m\n",
       "4  494      0   m"
      ]
     },
     "execution_count": 27,
     "metadata": {},
     "output_type": "execute_result"
    }
   ],
   "source": [
    "variables = df.iloc[:,0:3].copy()\n",
    "variables.head(n = 5)"
   ]
  },
  {
   "cell_type": "markdown",
   "metadata": {},
   "source": [
    "## Declaration  of the new variables"
   ]
  },
  {
   "cell_type": "code",
   "execution_count": 28,
   "metadata": {},
   "outputs": [],
   "source": [
    "sl = np.zeros(df.shape[0],dtype=float)\n",
    "sb = np.zeros(df.shape[0],dtype=float)\n",
    "sp = np.zeros(df.shape[0],dtype=float)\n",
    "co = np.zeros(df.shape[0],dtype=float)"
   ]
  },
  {
   "cell_type": "code",
   "execution_count": 29,
   "metadata": {},
   "outputs": [],
   "source": [
    "teste = df.X[0]"
   ]
  },
  {
   "cell_type": "code",
   "execution_count": 48,
   "metadata": {},
   "outputs": [
    {
     "data": {
      "text/plain": [
       "'['"
      ]
     },
     "execution_count": 48,
     "metadata": {},
     "output_type": "execute_result"
    }
   ],
   "source": [
    "t = df.X[0][0]\n",
    "t"
   ]
  },
  {
   "cell_type": "code",
   "execution_count": 7,
   "metadata": {},
   "outputs": [
    {
     "ename": "TypeError",
     "evalue": "cannot perform reduce with flexible type",
     "output_type": "error",
     "traceback": [
      "\u001b[0;31m---------------------------------------------------------------------------\u001b[0m",
      "\u001b[0;31mTypeError\u001b[0m                                 Traceback (most recent call last)",
      "\u001b[0;32m<ipython-input-7-47ec7ea8b6cb>\u001b[0m in \u001b[0;36m<module>\u001b[0;34m()\u001b[0m\n\u001b[1;32m      2\u001b[0m \u001b[0;34m\u001b[0m\u001b[0m\n\u001b[1;32m      3\u001b[0m \u001b[0;32mfor\u001b[0m \u001b[0mind\u001b[0m \u001b[0;32min\u001b[0m \u001b[0mrange\u001b[0m\u001b[0;34m(\u001b[0m\u001b[0;36m0\u001b[0m\u001b[0;34m,\u001b[0m\u001b[0mdf\u001b[0m\u001b[0;34m.\u001b[0m\u001b[0mshape\u001b[0m\u001b[0;34m[\u001b[0m\u001b[0;36m0\u001b[0m\u001b[0;34m]\u001b[0m\u001b[0;34m)\u001b[0m\u001b[0;34m:\u001b[0m\u001b[0;34m\u001b[0m\u001b[0m\n\u001b[0;32m----> 4\u001b[0;31m     \u001b[0msl\u001b[0m\u001b[0;34m[\u001b[0m\u001b[0mind\u001b[0m\u001b[0;34m]\u001b[0m \u001b[0;34m=\u001b[0m \u001b[0mnp\u001b[0m\u001b[0;34m.\u001b[0m\u001b[0msum\u001b[0m\u001b[0;34m(\u001b[0m\u001b[0mdf\u001b[0m\u001b[0;34m.\u001b[0m\u001b[0mLight\u001b[0m\u001b[0;34m[\u001b[0m\u001b[0mind\u001b[0m\u001b[0;34m]\u001b[0m\u001b[0;34m)\u001b[0m\u001b[0;34m\u001b[0m\u001b[0m\n\u001b[0m\u001b[1;32m      5\u001b[0m     \u001b[0msb\u001b[0m\u001b[0;34m[\u001b[0m\u001b[0mind\u001b[0m\u001b[0;34m]\u001b[0m \u001b[0;34m=\u001b[0m \u001b[0mnp\u001b[0m\u001b[0;34m.\u001b[0m\u001b[0msum\u001b[0m\u001b[0;34m(\u001b[0m\u001b[0mdf\u001b[0m\u001b[0;34m.\u001b[0m\u001b[0mPedestal\u001b[0m\u001b[0;34m[\u001b[0m\u001b[0mind\u001b[0m\u001b[0;34m]\u001b[0m\u001b[0;34m)\u001b[0m\u001b[0;34m\u001b[0m\u001b[0m\n\u001b[1;32m      6\u001b[0m     \u001b[0msp\u001b[0m\u001b[0;34m[\u001b[0m\u001b[0mind\u001b[0m\u001b[0;34m]\u001b[0m \u001b[0;34m=\u001b[0m \u001b[0mnp\u001b[0m\u001b[0;34m.\u001b[0m\u001b[0msize\u001b[0m\u001b[0;34m(\u001b[0m\u001b[0mdf\u001b[0m\u001b[0;34m.\u001b[0m\u001b[0mX\u001b[0m\u001b[0;34m[\u001b[0m\u001b[0mind\u001b[0m\u001b[0;34m]\u001b[0m\u001b[0;34m)\u001b[0m\u001b[0;34m\u001b[0m\u001b[0m\n",
      "\u001b[0;32m/opt/anaconda3/lib/python3.6/site-packages/numpy/core/fromnumeric.py\u001b[0m in \u001b[0;36msum\u001b[0;34m(a, axis, dtype, out, keepdims)\u001b[0m\n\u001b[1;32m   1880\u001b[0m             \u001b[0;32mreturn\u001b[0m \u001b[0msum\u001b[0m\u001b[0;34m(\u001b[0m\u001b[0maxis\u001b[0m\u001b[0;34m=\u001b[0m\u001b[0maxis\u001b[0m\u001b[0;34m,\u001b[0m \u001b[0mdtype\u001b[0m\u001b[0;34m=\u001b[0m\u001b[0mdtype\u001b[0m\u001b[0;34m,\u001b[0m \u001b[0mout\u001b[0m\u001b[0;34m=\u001b[0m\u001b[0mout\u001b[0m\u001b[0;34m,\u001b[0m \u001b[0;34m**\u001b[0m\u001b[0mkwargs\u001b[0m\u001b[0;34m)\u001b[0m\u001b[0;34m\u001b[0m\u001b[0m\n\u001b[1;32m   1881\u001b[0m     return _methods._sum(a, axis=axis, dtype=dtype,\n\u001b[0;32m-> 1882\u001b[0;31m                          out=out, **kwargs)\n\u001b[0m\u001b[1;32m   1883\u001b[0m \u001b[0;34m\u001b[0m\u001b[0m\n\u001b[1;32m   1884\u001b[0m \u001b[0;34m\u001b[0m\u001b[0m\n",
      "\u001b[0;32m/opt/anaconda3/lib/python3.6/site-packages/numpy/core/_methods.py\u001b[0m in \u001b[0;36m_sum\u001b[0;34m(a, axis, dtype, out, keepdims)\u001b[0m\n\u001b[1;32m     30\u001b[0m \u001b[0;34m\u001b[0m\u001b[0m\n\u001b[1;32m     31\u001b[0m \u001b[0;32mdef\u001b[0m \u001b[0m_sum\u001b[0m\u001b[0;34m(\u001b[0m\u001b[0ma\u001b[0m\u001b[0;34m,\u001b[0m \u001b[0maxis\u001b[0m\u001b[0;34m=\u001b[0m\u001b[0;32mNone\u001b[0m\u001b[0;34m,\u001b[0m \u001b[0mdtype\u001b[0m\u001b[0;34m=\u001b[0m\u001b[0;32mNone\u001b[0m\u001b[0;34m,\u001b[0m \u001b[0mout\u001b[0m\u001b[0;34m=\u001b[0m\u001b[0;32mNone\u001b[0m\u001b[0;34m,\u001b[0m \u001b[0mkeepdims\u001b[0m\u001b[0;34m=\u001b[0m\u001b[0;32mFalse\u001b[0m\u001b[0;34m)\u001b[0m\u001b[0;34m:\u001b[0m\u001b[0;34m\u001b[0m\u001b[0m\n\u001b[0;32m---> 32\u001b[0;31m     \u001b[0;32mreturn\u001b[0m \u001b[0mumr_sum\u001b[0m\u001b[0;34m(\u001b[0m\u001b[0ma\u001b[0m\u001b[0;34m,\u001b[0m \u001b[0maxis\u001b[0m\u001b[0;34m,\u001b[0m \u001b[0mdtype\u001b[0m\u001b[0;34m,\u001b[0m \u001b[0mout\u001b[0m\u001b[0;34m,\u001b[0m \u001b[0mkeepdims\u001b[0m\u001b[0;34m)\u001b[0m\u001b[0;34m\u001b[0m\u001b[0m\n\u001b[0m\u001b[1;32m     33\u001b[0m \u001b[0;34m\u001b[0m\u001b[0m\n\u001b[1;32m     34\u001b[0m \u001b[0;32mdef\u001b[0m \u001b[0m_prod\u001b[0m\u001b[0;34m(\u001b[0m\u001b[0ma\u001b[0m\u001b[0;34m,\u001b[0m \u001b[0maxis\u001b[0m\u001b[0;34m=\u001b[0m\u001b[0;32mNone\u001b[0m\u001b[0;34m,\u001b[0m \u001b[0mdtype\u001b[0m\u001b[0;34m=\u001b[0m\u001b[0;32mNone\u001b[0m\u001b[0;34m,\u001b[0m \u001b[0mout\u001b[0m\u001b[0;34m=\u001b[0m\u001b[0;32mNone\u001b[0m\u001b[0;34m,\u001b[0m \u001b[0mkeepdims\u001b[0m\u001b[0;34m=\u001b[0m\u001b[0;32mFalse\u001b[0m\u001b[0;34m)\u001b[0m\u001b[0;34m:\u001b[0m\u001b[0;34m\u001b[0m\u001b[0m\n",
      "\u001b[0;31mTypeError\u001b[0m: cannot perform reduce with flexible type"
     ]
    }
   ],
   "source": [
    "## Loop to calculate the new variables\n",
    "\n",
    "for ind in range(0,df.shape[0]):\n",
    "    sl[ind] = np.sum(df.Light[ind])\n",
    "    sb[ind] = np.sum(df.Pedestal[ind])\n",
    "    sp[ind] = np.size(df.X[ind])\n",
    "    co[ind] = np.abs(np.corrcoef(df.X[ind],df.Y[ind])[0][1])    \n",
    "    #lenY[ind]  = np.mean(np.unique(df.X[ind],return_counts=True)[1]*scale)\n",
    "    #lenX[ind]  = np.mean(np.unique(df.Y[ind],return_counts=True)[1]*scale)"
   ]
  },
  {
   "cell_type": "code",
   "execution_count": null,
   "metadata": {},
   "outputs": [],
   "source": [
    "# Insertion in the table\n",
    "variables.insert(3,'SumLight',sl)\n",
    "variables.insert(4,'SumPedestal',sb)\n",
    "variables.insert(5,'SumPixels',sp)\n",
    "variables.insert(6,'PhotonPPixels',(sl-sb)/sp)\n",
    "variables.insert(7,'XYCorrelation',co)\n",
    "variables.insert(8,'LightPPixel',sl/sp)"
   ]
  },
  {
   "cell_type": "code",
   "execution_count": null,
   "metadata": {},
   "outputs": [],
   "source": [
    "variables.head(n=5)"
   ]
  },
  {
   "cell_type": "code",
   "execution_count": null,
   "metadata": {},
   "outputs": [],
   "source": [
    "variables[(variables.Tag == 'l') & (variables.PhotonPPixels < 5)]"
   ]
  },
  {
   "cell_type": "code",
   "execution_count": null,
   "metadata": {},
   "outputs": [],
   "source": [
    "SLP = tl.getTaggedVariable(variables,'SumLight')\n",
    "PPP = tl.getTaggedVariable(variables,'PhotonPPixels')\n",
    "COR = tl.getTaggedVariable(variables,'XYCorrelation')\n",
    "SPP = tl.getTaggedVariable(variables,'SumPixels')\n",
    "LPP = tl.getTaggedVariable(variables,'LightPPixel')"
   ]
  },
  {
   "cell_type": "code",
   "execution_count": null,
   "metadata": {},
   "outputs": [],
   "source": [
    "tl.plot2hist(PPP, bins = 25, nsd = 2, nse = 6, label='Photons/Pixels', logx = False, logy = False)\n",
    "tl.plot2hist(LPP, bins = 25, nsd = 2, nse = 6, label='Light/Pixels', logx = False, logy = False)\n",
    "tl.plot2hist(SLP, bins = 25, nsd = 1, nse = 5, label='Light in the cluster', logx = False, logy = False)\n",
    "tl.plot2hist(COR, bins = 25, nsd = 2, nse = 2, label='XYCorrelation', logx = False, logy = False)\n",
    "tl.plot2hist(SPP, bins = 25, nsd = 1, nse = 5, label='SumPixels', logx = False, logy = False)"
   ]
  },
  {
   "cell_type": "markdown",
   "metadata": {},
   "source": [
    "## Ploting the specified type of cluster"
   ]
  },
  {
   "cell_type": "code",
   "execution_count": null,
   "metadata": {},
   "outputs": [],
   "source": [
    "tag = 'm'\n",
    "for cluN in df[df['Tag'] == tag].index:\n",
    "\n",
    "    #cluN = 91 ## Specified Cluster\n",
    "\n",
    "    Run = df[colhead[0]][cluN]\n",
    "    Nim = df[colhead[1]][cluN]\n",
    "    Xi  = df[colhead[3]][cluN]\n",
    "    Yi  = df[colhead[4]][cluN]\n",
    "    Lp  = df[colhead[5]][cluN]\n",
    "    Lb  = df[colhead[6]][cluN]\n",
    "\n",
    "    matrix = np.zeros([y_resolution,x_resolution],dtype=int)\n",
    "    matrixb = np.zeros([y_resolution,x_resolution],dtype=int)\n",
    "    \n",
    "    matrix[Yi,Xi]=Lp\n",
    "    matrixb[Yi,Xi]=Lb\n",
    "    \n",
    "    fig = plt.figure(figsize=(15,15))\n",
    "    ax  = plt.gca()\n",
    "    iax = ax.imshow(matrix,cmap=\"viridis\", vmin=85,vmax=130)\n",
    "    ax.set_ylim(np.min(Yi),np.max(Yi))\n",
    "    ax.set_xlim(np.min(Xi),np.max(Xi))\n",
    "    ax.set_title('Run %d - # of Image %d' % (Run, Nim))\n",
    "    tl.colorbar(iax)\n",
    "    plt.show(block=False)    \n",
    "    \n",
    "    key = input('Press <ret> to continue -> ')\n",
    "    if key == 'stop':\n",
    "        break\n",
    "    plt.close"
   ]
  },
  {
   "cell_type": "markdown",
   "metadata": {},
   "source": [
    "## Developing "
   ]
  },
  {
   "cell_type": "code",
   "execution_count": null,
   "metadata": {},
   "outputs": [],
   "source": [
    "vecXY = np.array([np.array(df.X[91]),np.array(df.Y[91])]).T\n",
    "\n",
    "newXY = rotClu(vecXY)"
   ]
  },
  {
   "cell_type": "code",
   "execution_count": null,
   "metadata": {},
   "outputs": [],
   "source": [
    "def rotClu(vector, angle = 45):\n",
    "    theta = (angle/180.) * np.pi\n",
    "\n",
    "    rotMatrix = np.array([[np.cos(theta), - np.sin(theta)], \n",
    "                             [np.sin(theta),  np.cos(theta)]])\n",
    "\n",
    "    vectorl = np.dot(vector,rotMatrix)\n",
    "    return vectorl"
   ]
  }
 ],
 "metadata": {
  "kernelspec": {
   "display_name": "Python 3",
   "language": "python",
   "name": "python3"
  },
  "language_info": {
   "codemirror_mode": {
    "name": "ipython",
    "version": 3
   },
   "file_extension": ".py",
   "mimetype": "text/x-python",
   "name": "python",
   "nbconvert_exporter": "python",
   "pygments_lexer": "ipython3",
   "version": "3.6.5"
  }
 },
 "nbformat": 4,
 "nbformat_minor": 2
}
