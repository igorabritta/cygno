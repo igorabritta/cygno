{
 "cells": [
  {
   "cell_type": "markdown",
   "metadata": {},
   "source": [
    "# Data Analysis over the Clusters\n",
    "## Loading libraries"
   ]
  },
  {
   "cell_type": "code",
   "execution_count": 1,
   "metadata": {},
   "outputs": [],
   "source": [
    "import numpy as np\n",
    "import cygnus_lib as cy\n",
    "import toolslib as tl\n",
    "import matplotlib.pyplot as plt\n",
    "import pandas as pd\n",
    "from time import time\n",
    "from ast import literal_eval\n",
    "\n",
    "## font definition\n",
    "%matplotlib inline\n",
    "plt.rcParams['font.family'] = 'sans-serif'\n",
    "plt.rcParams['font.sans-serif'] = ['Bitstream Vera Sans']\n",
    "plt.rcParams['font.serif'] = ['Bitstream Vera Sans']"
   ]
  },
  {
   "cell_type": "markdown",
   "metadata": {},
   "source": [
    "## Variables definition"
   ]
  },
  {
   "cell_type": "code",
   "execution_count": 2,
   "metadata": {},
   "outputs": [],
   "source": [
    "x_resolution = y_resolution = 2048\n",
    "rescale      = 512\n",
    "scale        = int(x_resolution/rescale)"
   ]
  },
  {
   "cell_type": "markdown",
   "metadata": {},
   "source": [
    "## Loading data\n",
    "\n",
    "List contain:\n",
    "\n",
    "[0 - Run number, 1 - Image Number, 2 - Tag of the cluster, 3 - Pixel X position, 4 - Pixel Y position, 5 - Light in the pixel, 6 - Pedestal in the pixel]"
   ]
  },
  {
   "cell_type": "code",
   "execution_count": 6,
   "metadata": {},
   "outputs": [],
   "source": [
    "tic=time()\n",
    "#------------------- Loading File ------------------------------#\n",
    "directory = (\"./data/\")          # Directory of the output file\n",
    "filename  = (\"ClustersTable\")    # Name of the output file\n",
    "extension = (\".csv\")             # Extension of the output file\n",
    "dataout = directory + filename + extension # Full path of the output file\n",
    "\n",
    "dt = {'Run': np.int64, 'Image': np.int64, 'Tag': np.object, 'X': np.object, 'Y': np.object, 'Light': np.object, 'Pedestal': np.object}\n",
    "\n",
    "df = pd.read_csv(dataout,dtype=dt)"
   ]
  },
  {
   "cell_type": "code",
   "execution_count": 7,
   "metadata": {},
   "outputs": [],
   "source": [
    "df.loc[:,'X'] = df.loc[:,'X'].apply(literal_eval)\n",
    "df.loc[:,'Y'] = df.loc[:,'Y'].apply(literal_eval)\n",
    "df.loc[:,'Light'] = df.loc[:,'Light'].apply(literal_eval)\n",
    "df.loc[:,'Pedestal'] = df.loc[:,'Pedestal'].apply(literal_eval)\n",
    "toc = time()"
   ]
  },
  {
   "cell_type": "code",
   "execution_count": 8,
   "metadata": {},
   "outputs": [
    {
     "name": "stdout",
     "output_type": "stream",
     "text": [
      "Loading time: 707.33\n"
     ]
    }
   ],
   "source": [
    "print(\"Loading time: %.2f\" % (toc-tic))"
   ]
  },
  {
   "cell_type": "code",
   "execution_count": 9,
   "metadata": {},
   "outputs": [
    {
     "data": {
      "text/html": [
       "<div>\n",
       "<style scoped>\n",
       "    .dataframe tbody tr th:only-of-type {\n",
       "        vertical-align: middle;\n",
       "    }\n",
       "\n",
       "    .dataframe tbody tr th {\n",
       "        vertical-align: top;\n",
       "    }\n",
       "\n",
       "    .dataframe thead th {\n",
       "        text-align: right;\n",
       "    }\n",
       "</style>\n",
       "<table border=\"1\" class=\"dataframe\">\n",
       "  <thead>\n",
       "    <tr style=\"text-align: right;\">\n",
       "      <th></th>\n",
       "      <th>Run</th>\n",
       "      <th>Image</th>\n",
       "      <th>Tag</th>\n",
       "      <th>X</th>\n",
       "      <th>Y</th>\n",
       "      <th>Light</th>\n",
       "      <th>Pedestal</th>\n",
       "    </tr>\n",
       "  </thead>\n",
       "  <tbody>\n",
       "    <tr>\n",
       "      <th>0</th>\n",
       "      <td>494</td>\n",
       "      <td>0</td>\n",
       "      <td>m</td>\n",
       "      <td>[808, 808, 808, 808, 809, 809, 809, 809, 810, ...</td>\n",
       "      <td>[40, 41, 42, 43, 40, 41, 42, 43, 40, 41, 42, 4...</td>\n",
       "      <td>[103, 96, 98, 103, 97, 129, 99, 120, 100, 98, ...</td>\n",
       "      <td>[103, 102, 101, 104, 100, 115, 102, 104, 104, ...</td>\n",
       "    </tr>\n",
       "    <tr>\n",
       "      <th>1</th>\n",
       "      <td>494</td>\n",
       "      <td>0</td>\n",
       "      <td>m</td>\n",
       "      <td>[652, 652, 652, 652, 653, 653, 653, 653, 654, ...</td>\n",
       "      <td>[112, 113, 114, 115, 112, 113, 114, 115, 112, ...</td>\n",
       "      <td>[98, 102, 99, 104, 103, 102, 101, 98, 103, 99,...</td>\n",
       "      <td>[99, 102, 103, 102, 102, 102, 100, 102, 102, 1...</td>\n",
       "    </tr>\n",
       "    <tr>\n",
       "      <th>2</th>\n",
       "      <td>494</td>\n",
       "      <td>0</td>\n",
       "      <td>m</td>\n",
       "      <td>[404, 404, 404, 404, 405, 405, 405, 405, 406, ...</td>\n",
       "      <td>[160, 161, 162, 163, 160, 161, 162, 163, 160, ...</td>\n",
       "      <td>[96, 101, 102, 103, 100, 100, 100, 98, 104, 10...</td>\n",
       "      <td>[96, 102, 102, 102, 99, 103, 102, 99, 102, 103...</td>\n",
       "    </tr>\n",
       "    <tr>\n",
       "      <th>3</th>\n",
       "      <td>494</td>\n",
       "      <td>0</td>\n",
       "      <td>m</td>\n",
       "      <td>[1272, 1272, 1272, 1272, 1273, 1273, 1273, 127...</td>\n",
       "      <td>[488, 489, 490, 491, 488, 489, 490, 491, 488, ...</td>\n",
       "      <td>[103, 96, 100, 103, 100, 105, 100, 100, 103, 1...</td>\n",
       "      <td>[102, 103, 103, 103, 103, 103, 106, 102, 102, ...</td>\n",
       "    </tr>\n",
       "    <tr>\n",
       "      <th>4</th>\n",
       "      <td>494</td>\n",
       "      <td>0</td>\n",
       "      <td>m</td>\n",
       "      <td>[1208, 1208, 1208, 1208, 1209, 1209, 1209, 120...</td>\n",
       "      <td>[724, 725, 726, 727, 724, 725, 726, 727, 724, ...</td>\n",
       "      <td>[99, 108, 106, 102, 102, 106, 111, 100, 101, 1...</td>\n",
       "      <td>[102, 103, 102, 102, 104, 102, 110, 102, 102, ...</td>\n",
       "    </tr>\n",
       "    <tr>\n",
       "      <th>5</th>\n",
       "      <td>494</td>\n",
       "      <td>0</td>\n",
       "      <td>m</td>\n",
       "      <td>[1516, 1516, 1516, 1516, 1517, 1517, 1517, 151...</td>\n",
       "      <td>[780, 781, 782, 783, 780, 781, 782, 783, 780, ...</td>\n",
       "      <td>[103, 108, 116, 100, 113, 111, 111, 110, 109, ...</td>\n",
       "      <td>[102, 102, 105, 102, 109, 103, 102, 103, 104, ...</td>\n",
       "    </tr>\n",
       "    <tr>\n",
       "      <th>6</th>\n",
       "      <td>494</td>\n",
       "      <td>0</td>\n",
       "      <td>m</td>\n",
       "      <td>[1484, 1484, 1484, 1484, 1485, 1485, 1485, 148...</td>\n",
       "      <td>[856, 857, 858, 859, 856, 857, 858, 859, 856, ...</td>\n",
       "      <td>[109, 100, 103, 98, 104, 101, 101, 110, 114, 1...</td>\n",
       "      <td>[103, 104, 104, 107, 103, 103, 106, 104, 104, ...</td>\n",
       "    </tr>\n",
       "    <tr>\n",
       "      <th>7</th>\n",
       "      <td>494</td>\n",
       "      <td>0</td>\n",
       "      <td>m</td>\n",
       "      <td>[700, 700, 700, 700, 701, 701, 701, 701, 702, ...</td>\n",
       "      <td>[996, 997, 998, 999, 996, 997, 998, 999, 996, ...</td>\n",
       "      <td>[133, 106, 106, 101, 100, 120, 113, 103, 103, ...</td>\n",
       "      <td>[135, 103, 102, 102, 104, 110, 105, 102, 103, ...</td>\n",
       "    </tr>\n",
       "    <tr>\n",
       "      <th>8</th>\n",
       "      <td>494</td>\n",
       "      <td>0</td>\n",
       "      <td>m</td>\n",
       "      <td>[516, 516, 516, 516, 517, 517, 517, 517, 518, ...</td>\n",
       "      <td>[1060, 1061, 1062, 1063, 1060, 1061, 1062, 106...</td>\n",
       "      <td>[100, 103, 102, 111, 103, 98, 99, 101, 100, 11...</td>\n",
       "      <td>[105, 102, 104, 107, 103, 103, 99, 103, 102, 1...</td>\n",
       "    </tr>\n",
       "    <tr>\n",
       "      <th>9</th>\n",
       "      <td>494</td>\n",
       "      <td>0</td>\n",
       "      <td>m</td>\n",
       "      <td>[804, 804, 804, 804, 805, 805, 805, 805, 806, ...</td>\n",
       "      <td>[1240, 1241, 1242, 1243, 1240, 1241, 1242, 124...</td>\n",
       "      <td>[107, 102, 102, 104, 109, 109, 114, 107, 111, ...</td>\n",
       "      <td>[100, 105, 104, 103, 105, 107, 109, 103, 103, ...</td>\n",
       "    </tr>\n",
       "  </tbody>\n",
       "</table>\n",
       "</div>"
      ],
      "text/plain": [
       "   Run  Image Tag                                                  X  \\\n",
       "0  494      0   m  [808, 808, 808, 808, 809, 809, 809, 809, 810, ...   \n",
       "1  494      0   m  [652, 652, 652, 652, 653, 653, 653, 653, 654, ...   \n",
       "2  494      0   m  [404, 404, 404, 404, 405, 405, 405, 405, 406, ...   \n",
       "3  494      0   m  [1272, 1272, 1272, 1272, 1273, 1273, 1273, 127...   \n",
       "4  494      0   m  [1208, 1208, 1208, 1208, 1209, 1209, 1209, 120...   \n",
       "5  494      0   m  [1516, 1516, 1516, 1516, 1517, 1517, 1517, 151...   \n",
       "6  494      0   m  [1484, 1484, 1484, 1484, 1485, 1485, 1485, 148...   \n",
       "7  494      0   m  [700, 700, 700, 700, 701, 701, 701, 701, 702, ...   \n",
       "8  494      0   m  [516, 516, 516, 516, 517, 517, 517, 517, 518, ...   \n",
       "9  494      0   m  [804, 804, 804, 804, 805, 805, 805, 805, 806, ...   \n",
       "\n",
       "                                                   Y  \\\n",
       "0  [40, 41, 42, 43, 40, 41, 42, 43, 40, 41, 42, 4...   \n",
       "1  [112, 113, 114, 115, 112, 113, 114, 115, 112, ...   \n",
       "2  [160, 161, 162, 163, 160, 161, 162, 163, 160, ...   \n",
       "3  [488, 489, 490, 491, 488, 489, 490, 491, 488, ...   \n",
       "4  [724, 725, 726, 727, 724, 725, 726, 727, 724, ...   \n",
       "5  [780, 781, 782, 783, 780, 781, 782, 783, 780, ...   \n",
       "6  [856, 857, 858, 859, 856, 857, 858, 859, 856, ...   \n",
       "7  [996, 997, 998, 999, 996, 997, 998, 999, 996, ...   \n",
       "8  [1060, 1061, 1062, 1063, 1060, 1061, 1062, 106...   \n",
       "9  [1240, 1241, 1242, 1243, 1240, 1241, 1242, 124...   \n",
       "\n",
       "                                               Light  \\\n",
       "0  [103, 96, 98, 103, 97, 129, 99, 120, 100, 98, ...   \n",
       "1  [98, 102, 99, 104, 103, 102, 101, 98, 103, 99,...   \n",
       "2  [96, 101, 102, 103, 100, 100, 100, 98, 104, 10...   \n",
       "3  [103, 96, 100, 103, 100, 105, 100, 100, 103, 1...   \n",
       "4  [99, 108, 106, 102, 102, 106, 111, 100, 101, 1...   \n",
       "5  [103, 108, 116, 100, 113, 111, 111, 110, 109, ...   \n",
       "6  [109, 100, 103, 98, 104, 101, 101, 110, 114, 1...   \n",
       "7  [133, 106, 106, 101, 100, 120, 113, 103, 103, ...   \n",
       "8  [100, 103, 102, 111, 103, 98, 99, 101, 100, 11...   \n",
       "9  [107, 102, 102, 104, 109, 109, 114, 107, 111, ...   \n",
       "\n",
       "                                            Pedestal  \n",
       "0  [103, 102, 101, 104, 100, 115, 102, 104, 104, ...  \n",
       "1  [99, 102, 103, 102, 102, 102, 100, 102, 102, 1...  \n",
       "2  [96, 102, 102, 102, 99, 103, 102, 99, 102, 103...  \n",
       "3  [102, 103, 103, 103, 103, 103, 106, 102, 102, ...  \n",
       "4  [102, 103, 102, 102, 104, 102, 110, 102, 102, ...  \n",
       "5  [102, 102, 105, 102, 109, 103, 102, 103, 104, ...  \n",
       "6  [103, 104, 104, 107, 103, 103, 106, 104, 104, ...  \n",
       "7  [135, 103, 102, 102, 104, 110, 105, 102, 103, ...  \n",
       "8  [105, 102, 104, 107, 103, 103, 99, 103, 102, 1...  \n",
       "9  [100, 105, 104, 103, 105, 107, 109, 103, 103, ...  "
      ]
     },
     "execution_count": 9,
     "metadata": {},
     "output_type": "execute_result"
    }
   ],
   "source": [
    "# Showing the table\n",
    "df.head(n = 10)"
   ]
  },
  {
   "cell_type": "code",
   "execution_count": 10,
   "metadata": {},
   "outputs": [
    {
     "data": {
      "text/html": [
       "<div>\n",
       "<style scoped>\n",
       "    .dataframe tbody tr th:only-of-type {\n",
       "        vertical-align: middle;\n",
       "    }\n",
       "\n",
       "    .dataframe tbody tr th {\n",
       "        vertical-align: top;\n",
       "    }\n",
       "\n",
       "    .dataframe thead th {\n",
       "        text-align: right;\n",
       "    }\n",
       "</style>\n",
       "<table border=\"1\" class=\"dataframe\">\n",
       "  <thead>\n",
       "    <tr style=\"text-align: right;\">\n",
       "      <th></th>\n",
       "      <th>Run</th>\n",
       "      <th>Image</th>\n",
       "      <th>Tag</th>\n",
       "    </tr>\n",
       "  </thead>\n",
       "  <tbody>\n",
       "    <tr>\n",
       "      <th>0</th>\n",
       "      <td>494</td>\n",
       "      <td>0</td>\n",
       "      <td>m</td>\n",
       "    </tr>\n",
       "    <tr>\n",
       "      <th>1</th>\n",
       "      <td>494</td>\n",
       "      <td>0</td>\n",
       "      <td>m</td>\n",
       "    </tr>\n",
       "    <tr>\n",
       "      <th>2</th>\n",
       "      <td>494</td>\n",
       "      <td>0</td>\n",
       "      <td>m</td>\n",
       "    </tr>\n",
       "    <tr>\n",
       "      <th>3</th>\n",
       "      <td>494</td>\n",
       "      <td>0</td>\n",
       "      <td>m</td>\n",
       "    </tr>\n",
       "    <tr>\n",
       "      <th>4</th>\n",
       "      <td>494</td>\n",
       "      <td>0</td>\n",
       "      <td>m</td>\n",
       "    </tr>\n",
       "  </tbody>\n",
       "</table>\n",
       "</div>"
      ],
      "text/plain": [
       "   Run  Image Tag\n",
       "0  494      0   m\n",
       "1  494      0   m\n",
       "2  494      0   m\n",
       "3  494      0   m\n",
       "4  494      0   m"
      ]
     },
     "execution_count": 10,
     "metadata": {},
     "output_type": "execute_result"
    }
   ],
   "source": [
    "variables = df.iloc[:,0:3].copy()\n",
    "variables.head(n = 5)"
   ]
  },
  {
   "cell_type": "markdown",
   "metadata": {},
   "source": [
    "## Declaration  of the new variables"
   ]
  },
  {
   "cell_type": "code",
   "execution_count": 11,
   "metadata": {},
   "outputs": [],
   "source": [
    "sl = np.zeros(df.shape[0],dtype=float)\n",
    "sb = np.zeros(df.shape[0],dtype=float)\n",
    "sp = np.zeros(df.shape[0],dtype=float)\n",
    "co = np.zeros(df.shape[0],dtype=float)"
   ]
  },
  {
   "cell_type": "code",
   "execution_count": 12,
   "metadata": {},
   "outputs": [],
   "source": [
    "## Loop to calculate the new variables\n",
    "\n",
    "for ind in range(0,df.shape[0]):\n",
    "    sl[ind] = np.sum(df.Light[ind])\n",
    "    sb[ind] = np.sum(df.Pedestal[ind])\n",
    "    sp[ind] = np.size(df.X[ind])\n",
    "    co[ind] = np.abs(np.corrcoef(df.X[ind],df.Y[ind])[0][1])    \n",
    "    #lenY[ind]  = np.mean(np.unique(df.X[ind],return_counts=True)[1]*scale)\n",
    "    #lenX[ind]  = np.mean(np.unique(df.Y[ind],return_counts=True)[1]*scale)"
   ]
  },
  {
   "cell_type": "code",
   "execution_count": 13,
   "metadata": {},
   "outputs": [],
   "source": [
    "# Insertion in the table\n",
    "variables.insert(3,'SumLight',sl)\n",
    "variables.insert(4,'SumPedestal',sb)\n",
    "variables.insert(5,'SumPixels',sp)\n",
    "variables.insert(6,'PhotonPPixels',(sl-sb)/sp)\n",
    "variables.insert(7,'XYCorrelation',co)\n",
    "variables.insert(8,'LightPPixel',sl/sp)"
   ]
  },
  {
   "cell_type": "code",
   "execution_count": 14,
   "metadata": {},
   "outputs": [
    {
     "data": {
      "text/html": [
       "<div>\n",
       "<style scoped>\n",
       "    .dataframe tbody tr th:only-of-type {\n",
       "        vertical-align: middle;\n",
       "    }\n",
       "\n",
       "    .dataframe tbody tr th {\n",
       "        vertical-align: top;\n",
       "    }\n",
       "\n",
       "    .dataframe thead th {\n",
       "        text-align: right;\n",
       "    }\n",
       "</style>\n",
       "<table border=\"1\" class=\"dataframe\">\n",
       "  <thead>\n",
       "    <tr style=\"text-align: right;\">\n",
       "      <th></th>\n",
       "      <th>Run</th>\n",
       "      <th>Image</th>\n",
       "      <th>Tag</th>\n",
       "      <th>SumLight</th>\n",
       "      <th>SumPedestal</th>\n",
       "      <th>SumPixels</th>\n",
       "      <th>PhotonPPixels</th>\n",
       "      <th>XYCorrelation</th>\n",
       "      <th>LightPPixel</th>\n",
       "    </tr>\n",
       "  </thead>\n",
       "  <tbody>\n",
       "    <tr>\n",
       "      <th>0</th>\n",
       "      <td>494</td>\n",
       "      <td>0</td>\n",
       "      <td>m</td>\n",
       "      <td>639904.0</td>\n",
       "      <td>605129.0</td>\n",
       "      <td>5888.0</td>\n",
       "      <td>5.906080</td>\n",
       "      <td>0.680871</td>\n",
       "      <td>108.679348</td>\n",
       "    </tr>\n",
       "    <tr>\n",
       "      <th>1</th>\n",
       "      <td>494</td>\n",
       "      <td>0</td>\n",
       "      <td>m</td>\n",
       "      <td>276976.0</td>\n",
       "      <td>261851.0</td>\n",
       "      <td>2544.0</td>\n",
       "      <td>5.945362</td>\n",
       "      <td>0.693469</td>\n",
       "      <td>108.874214</td>\n",
       "    </tr>\n",
       "    <tr>\n",
       "      <th>2</th>\n",
       "      <td>494</td>\n",
       "      <td>0</td>\n",
       "      <td>m</td>\n",
       "      <td>283543.0</td>\n",
       "      <td>271467.0</td>\n",
       "      <td>2640.0</td>\n",
       "      <td>4.574242</td>\n",
       "      <td>0.716070</td>\n",
       "      <td>107.402652</td>\n",
       "    </tr>\n",
       "    <tr>\n",
       "      <th>3</th>\n",
       "      <td>494</td>\n",
       "      <td>0</td>\n",
       "      <td>m</td>\n",
       "      <td>223004.0</td>\n",
       "      <td>208398.0</td>\n",
       "      <td>2016.0</td>\n",
       "      <td>7.245040</td>\n",
       "      <td>0.234880</td>\n",
       "      <td>110.617063</td>\n",
       "    </tr>\n",
       "    <tr>\n",
       "      <th>4</th>\n",
       "      <td>494</td>\n",
       "      <td>0</td>\n",
       "      <td>m</td>\n",
       "      <td>933856.0</td>\n",
       "      <td>886972.0</td>\n",
       "      <td>8544.0</td>\n",
       "      <td>5.487360</td>\n",
       "      <td>0.876593</td>\n",
       "      <td>109.299625</td>\n",
       "    </tr>\n",
       "  </tbody>\n",
       "</table>\n",
       "</div>"
      ],
      "text/plain": [
       "   Run  Image Tag  SumLight  SumPedestal  SumPixels  PhotonPPixels  \\\n",
       "0  494      0   m  639904.0     605129.0     5888.0       5.906080   \n",
       "1  494      0   m  276976.0     261851.0     2544.0       5.945362   \n",
       "2  494      0   m  283543.0     271467.0     2640.0       4.574242   \n",
       "3  494      0   m  223004.0     208398.0     2016.0       7.245040   \n",
       "4  494      0   m  933856.0     886972.0     8544.0       5.487360   \n",
       "\n",
       "   XYCorrelation  LightPPixel  \n",
       "0       0.680871   108.679348  \n",
       "1       0.693469   108.874214  \n",
       "2       0.716070   107.402652  \n",
       "3       0.234880   110.617063  \n",
       "4       0.876593   109.299625  "
      ]
     },
     "execution_count": 14,
     "metadata": {},
     "output_type": "execute_result"
    }
   ],
   "source": [
    "variables.head(n=5)"
   ]
  },
  {
   "cell_type": "code",
   "execution_count": 15,
   "metadata": {},
   "outputs": [
    {
     "data": {
      "text/html": [
       "<div>\n",
       "<style scoped>\n",
       "    .dataframe tbody tr th:only-of-type {\n",
       "        vertical-align: middle;\n",
       "    }\n",
       "\n",
       "    .dataframe tbody tr th {\n",
       "        vertical-align: top;\n",
       "    }\n",
       "\n",
       "    .dataframe thead th {\n",
       "        text-align: right;\n",
       "    }\n",
       "</style>\n",
       "<table border=\"1\" class=\"dataframe\">\n",
       "  <thead>\n",
       "    <tr style=\"text-align: right;\">\n",
       "      <th></th>\n",
       "      <th>Run</th>\n",
       "      <th>Image</th>\n",
       "      <th>Tag</th>\n",
       "      <th>SumLight</th>\n",
       "      <th>SumPedestal</th>\n",
       "      <th>SumPixels</th>\n",
       "      <th>PhotonPPixels</th>\n",
       "      <th>XYCorrelation</th>\n",
       "      <th>LightPPixel</th>\n",
       "    </tr>\n",
       "  </thead>\n",
       "  <tbody>\n",
       "    <tr>\n",
       "      <th>6930</th>\n",
       "      <td>494</td>\n",
       "      <td>83</td>\n",
       "      <td>l</td>\n",
       "      <td>4066372.0</td>\n",
       "      <td>3992954.0</td>\n",
       "      <td>38944.0</td>\n",
       "      <td>1.885220</td>\n",
       "      <td>0.336163</td>\n",
       "      <td>104.415879</td>\n",
       "    </tr>\n",
       "    <tr>\n",
       "      <th>6931</th>\n",
       "      <td>494</td>\n",
       "      <td>83</td>\n",
       "      <td>l</td>\n",
       "      <td>1239130.0</td>\n",
       "      <td>1198118.0</td>\n",
       "      <td>11680.0</td>\n",
       "      <td>3.511301</td>\n",
       "      <td>0.242340</td>\n",
       "      <td>106.089897</td>\n",
       "    </tr>\n",
       "    <tr>\n",
       "      <th>7933</th>\n",
       "      <td>494</td>\n",
       "      <td>93</td>\n",
       "      <td>l</td>\n",
       "      <td>5170105.0</td>\n",
       "      <td>4956233.0</td>\n",
       "      <td>47984.0</td>\n",
       "      <td>4.457152</td>\n",
       "      <td>0.097981</td>\n",
       "      <td>107.746436</td>\n",
       "    </tr>\n",
       "    <tr>\n",
       "      <th>18080</th>\n",
       "      <td>494</td>\n",
       "      <td>209</td>\n",
       "      <td>l</td>\n",
       "      <td>13862470.0</td>\n",
       "      <td>13572413.0</td>\n",
       "      <td>132880.0</td>\n",
       "      <td>2.182849</td>\n",
       "      <td>0.798478</td>\n",
       "      <td>104.323224</td>\n",
       "    </tr>\n",
       "    <tr>\n",
       "      <th>18081</th>\n",
       "      <td>494</td>\n",
       "      <td>209</td>\n",
       "      <td>l</td>\n",
       "      <td>1765949.0</td>\n",
       "      <td>1742871.0</td>\n",
       "      <td>17104.0</td>\n",
       "      <td>1.349275</td>\n",
       "      <td>0.573098</td>\n",
       "      <td>103.247720</td>\n",
       "    </tr>\n",
       "    <tr>\n",
       "      <th>18082</th>\n",
       "      <td>494</td>\n",
       "      <td>209</td>\n",
       "      <td>l</td>\n",
       "      <td>8106981.0</td>\n",
       "      <td>7801219.0</td>\n",
       "      <td>75600.0</td>\n",
       "      <td>4.044471</td>\n",
       "      <td>0.049161</td>\n",
       "      <td>107.235198</td>\n",
       "    </tr>\n",
       "    <tr>\n",
       "      <th>18083</th>\n",
       "      <td>494</td>\n",
       "      <td>209</td>\n",
       "      <td>l</td>\n",
       "      <td>965660.0</td>\n",
       "      <td>948860.0</td>\n",
       "      <td>9280.0</td>\n",
       "      <td>1.810345</td>\n",
       "      <td>0.267739</td>\n",
       "      <td>104.058190</td>\n",
       "    </tr>\n",
       "    <tr>\n",
       "      <th>25661</th>\n",
       "      <td>494</td>\n",
       "      <td>271</td>\n",
       "      <td>l</td>\n",
       "      <td>7176089.0</td>\n",
       "      <td>6885724.0</td>\n",
       "      <td>66688.0</td>\n",
       "      <td>4.354082</td>\n",
       "      <td>0.233786</td>\n",
       "      <td>107.606901</td>\n",
       "    </tr>\n",
       "  </tbody>\n",
       "</table>\n",
       "</div>"
      ],
      "text/plain": [
       "       Run  Image Tag    SumLight  SumPedestal  SumPixels  PhotonPPixels  \\\n",
       "6930   494     83   l   4066372.0    3992954.0    38944.0       1.885220   \n",
       "6931   494     83   l   1239130.0    1198118.0    11680.0       3.511301   \n",
       "7933   494     93   l   5170105.0    4956233.0    47984.0       4.457152   \n",
       "18080  494    209   l  13862470.0   13572413.0   132880.0       2.182849   \n",
       "18081  494    209   l   1765949.0    1742871.0    17104.0       1.349275   \n",
       "18082  494    209   l   8106981.0    7801219.0    75600.0       4.044471   \n",
       "18083  494    209   l    965660.0     948860.0     9280.0       1.810345   \n",
       "25661  494    271   l   7176089.0    6885724.0    66688.0       4.354082   \n",
       "\n",
       "       XYCorrelation  LightPPixel  \n",
       "6930        0.336163   104.415879  \n",
       "6931        0.242340   106.089897  \n",
       "7933        0.097981   107.746436  \n",
       "18080       0.798478   104.323224  \n",
       "18081       0.573098   103.247720  \n",
       "18082       0.049161   107.235198  \n",
       "18083       0.267739   104.058190  \n",
       "25661       0.233786   107.606901  "
      ]
     },
     "execution_count": 15,
     "metadata": {},
     "output_type": "execute_result"
    }
   ],
   "source": [
    "variables[(variables.Tag == 'l') & (variables.PhotonPPixels < 5)]"
   ]
  },
  {
   "cell_type": "code",
   "execution_count": 16,
   "metadata": {},
   "outputs": [],
   "source": [
    "SLP = tl.getTaggedVariable(variables,'SumLight')\n",
    "PPP = tl.getTaggedVariable(variables,'PhotonPPixels')\n",
    "COR = tl.getTaggedVariable(variables,'XYCorrelation')\n",
    "SPP = tl.getTaggedVariable(variables,'SumPixels')\n",
    "LPP = tl.getTaggedVariable(variables,'LightPPixel')"
   ]
  },
  {
   "cell_type": "code",
   "execution_count": 17,
   "metadata": {},
   "outputs": [
    {
     "name": "stderr",
     "output_type": "stream",
     "text": [
      "/usr/lib64/python3.6/site-packages/matplotlib/font_manager.py:1328: UserWarning: findfont: Font family ['sans-serif'] not found. Falling back to DejaVu Sans\n",
      "  (prop.get_family(), self.defaultFamily[fontext]))\n"
     ]
    },
    {
     "data": {
      "image/png": "[encoded data removed]",
      "text/plain": [
       "<Figure size 720x504 with 1 Axes>"
      ]
     },
     "metadata": {
      "needs_background": "light"
     },
     "output_type": "display_data"
    },
    {
     "data": {
      "image/png": "[encoded data removed]",
      "text/plain": [
       "<Figure size 720x504 with 1 Axes>"
      ]
     },
     "metadata": {
      "needs_background": "light"
     },
     "output_type": "display_data"
    },
    {
     "data": {
      "image/png": "[encoded data removed]",
      "text/plain": [
       "<Figure size 720x504 with 1 Axes>"
      ]
     },
     "metadata": {
      "needs_background": "light"
     },
     "output_type": "display_data"
    },
    {
     "data": {
      "image/png": "[encoded data removed]",
      "text/plain": [
       "<Figure size 720x504 with 1 Axes>"
      ]
     },
     "metadata": {
      "needs_background": "light"
     },
     "output_type": "display_data"
    },
    {
     "data": {
      "image/png": "[encoded data removed]",
      "text/plain": [
       "<Figure size 720x504 with 1 Axes>"
      ]
     },
     "metadata": {
      "needs_background": "light"
     },
     "output_type": "display_data"
    }
   ],
   "source": [
    "tl.plot2hist(PPP, bins = 25, nsd = 2, nse = 6, label='Photons/Pixels', logx = False, logy = False)\n",
    "tl.plot2hist(LPP, bins = 25, nsd = 2, nse = 6, label='Light/Pixels', logx = False, logy = False)\n",
    "tl.plot2hist(SLP, bins = 25, nsd = 1, nse = 5, label='Light in the cluster', logx = False, logy = False)\n",
    "tl.plot2hist(COR, bins = 25, nsd = 2, nse = 2, label='XYCorrelation', logx = False, logy = False)\n",
    "tl.plot2hist(SPP, bins = 25, nsd = 1, nse = 5, label='SumPixels', logx = False, logy = False)"
   ]
  },
  {
   "cell_type": "markdown",
   "metadata": {},
   "source": [
    "## Ploting the specified type of cluster"
   ]
  },
  {
   "cell_type": "code",
   "execution_count": null,
   "metadata": {},
   "outputs": [],
   "source": [
    "tag = 'm'\n",
    "for cluN in df[df['Tag'] == tag].index:\n",
    "\n",
    "    #cluN = 91 ## Specified Cluster\n",
    "\n",
    "    Run = df[colhead[0]][cluN]\n",
    "    Nim = df[colhead[1]][cluN]\n",
    "    Xi  = df[colhead[3]][cluN]\n",
    "    Yi  = df[colhead[4]][cluN]\n",
    "    Lp  = df[colhead[5]][cluN]\n",
    "    Lb  = df[colhead[6]][cluN]\n",
    "\n",
    "    matrix = np.zeros([y_resolution,x_resolution],dtype=int)\n",
    "    matrixb = np.zeros([y_resolution,x_resolution],dtype=int)\n",
    "    \n",
    "    matrix[Yi,Xi]=Lp\n",
    "    matrixb[Yi,Xi]=Lb\n",
    "    \n",
    "    fig = plt.figure(figsize=(15,15))\n",
    "    ax  = plt.gca()\n",
    "    iax = ax.imshow(matrix,cmap=\"viridis\", vmin=85,vmax=130)\n",
    "    ax.set_ylim(np.min(Yi),np.max(Yi))\n",
    "    ax.set_xlim(np.min(Xi),np.max(Xi))\n",
    "    ax.set_title('Run %d - # of Image %d' % (Run, Nim))\n",
    "    tl.colorbar(iax)\n",
    "    plt.show(block=False)    \n",
    "    \n",
    "    key = input('Press <ret> to continue -> ')\n",
    "    if key == 'stop':\n",
    "        break\n",
    "    plt.close"
   ]
  },
  {
   "cell_type": "markdown",
   "metadata": {},
   "source": [
    "## Developing "
   ]
  },
  {
   "cell_type": "code",
   "execution_count": null,
   "metadata": {},
   "outputs": [],
   "source": [
    "vecXY = np.array([np.array(df.X[91]),np.array(df.Y[91])]).T\n",
    "\n",
    "newXY = rotClu(vecXY)"
   ]
  },
  {
   "cell_type": "code",
   "execution_count": null,
   "metadata": {},
   "outputs": [],
   "source": [
    "def rotClu(vector, angle = 45):\n",
    "    theta = (angle/180.) * np.pi\n",
    "\n",
    "    rotMatrix = np.array([[np.cos(theta), - np.sin(theta)], \n",
    "                             [np.sin(theta),  np.cos(theta)]])\n",
    "\n",
    "    vectorl = np.dot(vector,rotMatrix)\n",
    "    return vectorl"
   ]
  }
 ],
 "metadata": {
  "kernelspec": {
   "display_name": "Python 3",
   "language": "python",
   "name": "python3"
  },
  "language_info": {
   "codemirror_mode": {
    "name": "ipython",
    "version": 3
   },
   "file_extension": ".py",
   "mimetype": "text/x-python",
   "name": "python",
   "nbconvert_exporter": "python",
   "pygments_lexer": "ipython3",
   "version": "3.6.4"
  }
 },
 "nbformat": 4,
 "nbformat_minor": 2
}
