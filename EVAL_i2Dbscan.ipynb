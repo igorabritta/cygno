{
 "cells": [
  {
   "cell_type": "markdown",
   "metadata": {},
   "source": [
    "# Data Analysis over the Clusters\n",
    "## Loading libraries"
   ]
  },
  {
   "cell_type": "code",
   "execution_count": 1,
   "metadata": {},
   "outputs": [],
   "source": [
    "import numpy as np\n",
    "import cygnus_lib as cy\n",
    "import toolslib as tl\n",
    "import matplotlib.pyplot as plt\n",
    "import pandas as pd\n",
    "from time import time\n",
    "from ast import literal_eval\n",
    "from math import degrees\n",
    "\n",
    "## font definition\n",
    "%matplotlib inline\n",
    "plt.rcParams['font.family'] = 'sans-serif'\n",
    "plt.rcParams['font.sans-serif'] = ['Bitstream Vera Sans']\n",
    "plt.rcParams['font.serif'] = ['Bitstream Vera Sans']"
   ]
  },
  {
   "cell_type": "markdown",
   "metadata": {},
   "source": [
    "## Variables definition"
   ]
  },
  {
   "cell_type": "code",
   "execution_count": 2,
   "metadata": {},
   "outputs": [],
   "source": [
    "x_resolution = y_resolution = 2048\n",
    "rescale      = 512\n",
    "scale        = int(x_resolution/rescale)\n",
    "pixelscale   = 55e-3             #55e-3 for Orange ------ 0.125 for lemonn mm/pixel"
   ]
  },
  {
   "cell_type": "markdown",
   "metadata": {},
   "source": [
    "## Loading data - LONG\n",
    "\n",
    "List contain:\n",
    "\n",
    "[0 - Run number, 1 - Image Number, 2 - Tag of the cluster, 3 - Pixel X position, 4 - Pixel Y position, 5 - Light in the pixel, 6 - Pedestal in the pixel]"
   ]
  },
  {
   "cell_type": "code",
   "execution_count": 117,
   "metadata": {},
   "outputs": [],
   "source": [
    "max_image_to_read = 30\n",
    "\n",
    "vector_eps = [2.26, 3.5, 2.8, 6]\n",
    "vector_min_samples = [2, 35, 6, 2]\n",
    "\n",
    "iterative = 1\n",
    "dt = {}\n",
    "cl = {}\n",
    "aux1 = 0\n",
    "\n",
    "for cut1 in range(0,925,25):\n",
    "    aux1 += 1\n",
    "    #------------------- Loading File ------------------------------#\n",
    "    directory = (\"./data/\")          # Directory of the output file\n",
    "    filename  = (\"ClustersTable_I%d_Cut%d_E%f_M%d\" % (iterative,cut1,vector_eps[iterative],vector_min_samples[iterative]))    # Name of the output file\n",
    "    extension = (\".csv\")             # Extension of the output file\n",
    "    dataout = directory + filename + extension # Full path of the output file\n",
    "\n",
    "    dt = {'Run': np.int64, 'Image': np.int64, 'Tag': np.object, 'X': np.object, 'Y': np.object, 'Light': np.object, 'Pedestal': np.object}\n",
    "    colhead = [\"Run\",\"Image\",\"Tag\",\"X\",\"Y\",\"Light\",\"Pedestal\"]\n",
    "    df = pd.read_csv(dataout,dtype=dt)\n",
    "\n",
    "    df.loc[:,'X'] = df.loc[:,'X'].apply(literal_eval)\n",
    "    df.loc[:,'Y'] = df.loc[:,'Y'].apply(literal_eval)\n",
    "    df.loc[:,'Light'] = df.loc[:,'Light'].apply(literal_eval)\n",
    "    df.loc[:,'Pedestal'] = df.loc[:,'Pedestal'].apply(literal_eval)\n",
    "\n",
    "    # Showing the table\n",
    "    dt[\"cut\" + str(cut1)] = df.copy()\n",
    "    del df\n",
    "    \n",
    "    ind,count = np.unique(dt[\"cut\" + str(cut1)].Image,return_counts = True)\n",
    "    cl[\"cut\" + str(cut1)]      = np.zeros(max_image_to_read,dtype=int)\n",
    "    cl[\"cut\" + str(cut1)][ind] = count"
   ]
  },
  {
   "cell_type": "markdown",
   "metadata": {},
   "source": [
    "## Label by eye"
   ]
  },
  {
   "cell_type": "code",
   "execution_count": 118,
   "metadata": {},
   "outputs": [],
   "source": [
    "## The 'truth' made by eye for the long tracks on the first 30th images of the run 494\n",
    "\n",
    "lbe   = np.zeros(30,dtype=int)\n",
    "lone  = [1, 8, 10, 13, 16, 20, 27, 28] \n",
    "ltwo  = [17, 24, 26]\n",
    "lbe[lone] = 1\n",
    "lbe[ltwo] = 2\n",
    "\n",
    "#t[\"cut\" + str(cut1)].head(n=100)\n",
    "\n",
    "## The 'truth' made by eye for the long tracks on the first 62th images of the run 494\n",
    "\n",
    "# lbe   = np.zeros(62,dtype=int)\n",
    "# lone  = [1, 8, 10, 13, 16, 20, 27, 28, 31, 33, 40, 42, 43, 49, 56] \n",
    "# ltwo  = [17, 24, 26, 46, 61]\n",
    "# ltre  = [53]\n",
    "# lbe[lone] = 1\n",
    "# lbe[ltwo] = 2\n",
    "# lbe[ltre] = 3"
   ]
  },
  {
   "cell_type": "markdown",
   "metadata": {},
   "source": [
    "## Function to get the efficience"
   ]
  },
  {
   "cell_type": "code",
   "execution_count": 119,
   "metadata": {},
   "outputs": [],
   "source": [
    "#                          Condition: A             Not A\n",
    "#\n",
    "#  Test says “A”       True positive (TP)   |   False positive (FP)\n",
    "#                    ------------------------------------------\n",
    "#  Test says “Not A”   False negative (FN)  |    True negative (TN)\n",
    "\n",
    "## Sensitivity = TP/(TP + FN)\n",
    "## Specificity = TN/(FP + TN)\n",
    "\n",
    "# True positive rate (or sensitivity): TPR = TP/(TP+FN)\n",
    "# False positive rate :                FPR = FP/(FP+TN)"
   ]
  },
  {
   "cell_type": "code",
   "execution_count": 125,
   "metadata": {},
   "outputs": [],
   "source": [
    "FP = np.zeros(aux1,dtype=int)\n",
    "FN = np.zeros(aux1,dtype=int)\n",
    "\n",
    "TP = np.zeros(aux1,dtype=int)\n",
    "TN = np.zeros(aux1,dtype=int)\n",
    "\n",
    "aux = -1\n",
    "truth = lbe\n",
    "for cut1 in range(0,925,25):\n",
    "    aux += 1\n",
    "    cls = cl[\"cut\" + str(cut1)]\n",
    "    \n",
    "    #cls[41] = 0 # Image 41 is not good \n",
    "    \n",
    "    dif = cls - truth\n",
    "    FP[aux] = np.sum(dif[dif>0])\n",
    "    FN[aux] = np.abs(np.sum(dif[dif<0]))\n",
    "    TP[aux] = np.sum(truth[dif==0]) + np.sum(truth[dif>0]) + (np.sum(truth[dif<0])-np.abs(np.sum(dif[dif<0])))\n",
    "    TN[aux] = np.sum(truth[dif==0]==0)\n",
    "\n",
    "TPR = TP/(TP + FN)\n",
    "FPR = FP/(FP + TN)"
   ]
  },
  {
   "cell_type": "code",
   "execution_count": 126,
   "metadata": {},
   "outputs": [
    {
     "name": "stderr",
     "output_type": "stream",
     "text": [
      "/usr/lib64/python3.6/site-packages/matplotlib/font_manager.py:1328: UserWarning: findfont: Font family ['sans-serif'] not found. Falling back to DejaVu Sans\n",
      "  (prop.get_family(), self.defaultFamily[fontext]))\n"
     ]
    },
    {
     "data": {
      "image/png": "[encoded data removed]",
      "text/plain": [
       "<Figure size 504x504 with 1 Axes>"
      ]
     },
     "metadata": {
      "needs_background": "light"
     },
     "output_type": "display_data"
    }
   ],
   "source": [
    "fig = plt.figure(figsize=(7,7))\n",
    "\n",
    "plt.plot(TPR,1-FPR,'-ob')\n",
    "plt.ylabel('Background Rejection')\n",
    "plt.xlabel('Signal Efficiency')\n",
    "#plt.legend([\"Ends in the circle\", \"Ends out of the circle\" ])\n",
    "#plt.ylim([0.5,2.5])\n",
    "#plt.xlim([5,30])\n",
    "plt.title('For \"long\" tracks')\n",
    "plt.show()"
   ]
  },
  {
   "cell_type": "code",
   "execution_count": 132,
   "metadata": {},
   "outputs": [
    {
     "data": {
      "text/plain": [
       "8.017837257372731"
      ]
     },
     "execution_count": 132,
     "metadata": {},
     "output_type": "execute_result"
    }
   ],
   "source": [
    "np.sqrt(0.09/14)*100"
   ]
  },
  {
   "cell_type": "code",
   "execution_count": 134,
   "metadata": {},
   "outputs": [
    {
     "data": {
      "text/plain": [
       "array([0.        , 0.        , 0.        , 0.        , 0.        ,\n",
       "       0.        , 0.00884956, 0.01234568, 0.01612903, 0.02173913,\n",
       "       0.08333333, 0.29032258, 0.35714286, 0.5       , 0.7       ,\n",
       "       0.8       , 0.85      , 0.85      , 0.85      , 0.85      ,\n",
       "       0.9       , 0.95      , 0.95      , 0.95      , 0.95      ,\n",
       "       0.95      , 0.95      , 0.95      , 0.95      , 0.95      ,\n",
       "       0.95      , 1.        , 1.        , 1.        , 1.        ,\n",
       "       1.        , 1.        ])"
      ]
     },
     "execution_count": 134,
     "metadata": {},
     "output_type": "execute_result"
    }
   ],
   "source": [
    "1-FPR[]"
   ]
  },
  {
   "cell_type": "code",
   "execution_count": 135,
   "metadata": {},
   "outputs": [
    {
     "data": {
      "text/plain": [
       "array([1.        , 1.        , 1.        , 1.        , 1.        ,\n",
       "       1.        , 1.        , 1.        , 1.        , 1.        ,\n",
       "       1.        , 1.        , 0.92857143, 0.92857143, 0.92857143,\n",
       "       0.92857143, 0.85714286, 0.78571429, 0.64285714, 0.64285714,\n",
       "       0.64285714, 0.57142857, 0.57142857, 0.57142857, 0.57142857,\n",
       "       0.57142857, 0.57142857, 0.57142857, 0.57142857, 0.57142857,\n",
       "       0.57142857, 0.5       , 0.42857143, 0.42857143, 0.42857143,\n",
       "       0.42857143, 0.42857143])"
      ]
     },
     "execution_count": 135,
     "metadata": {},
     "output_type": "execute_result"
    }
   ],
   "source": [
    "TPR"
   ]
  },
  {
   "cell_type": "code",
   "execution_count": 136,
   "metadata": {},
   "outputs": [
    {
     "data": {
      "text/plain": [
       "range(0, 925, 25)"
      ]
     },
     "execution_count": 136,
     "metadata": {},
     "output_type": "execute_result"
    }
   ],
   "source": [
    "range(0,925,25)"
   ]
  },
  {
   "cell_type": "code",
   "execution_count": 141,
   "metadata": {},
   "outputs": [
    {
     "data": {
      "text/plain": [
       "775"
      ]
     },
     "execution_count": 141,
     "metadata": {},
     "output_type": "execute_result"
    }
   ],
   "source": [
    "range(0,925,25)[31]"
   ]
  },
  {
   "cell_type": "code",
   "execution_count": null,
   "metadata": {},
   "outputs": [],
   "source": []
  }
 ],
 "metadata": {
  "kernelspec": {
   "display_name": "Python 3",
   "language": "python",
   "name": "python3"
  },
  "language_info": {
   "codemirror_mode": {
    "name": "ipython",
    "version": 3
   },
   "file_extension": ".py",
   "mimetype": "text/x-python",
   "name": "python",
   "nbconvert_exporter": "python",
   "pygments_lexer": "ipython3",
   "version": "3.6.4"
  }
 },
 "nbformat": 4,
 "nbformat_minor": 2
}
